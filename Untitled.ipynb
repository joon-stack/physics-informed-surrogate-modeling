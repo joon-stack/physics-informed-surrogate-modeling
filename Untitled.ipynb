{
 "cells": [
  {
   "cell_type": "code",
   "execution_count": 1,
   "id": "ef231cd7-d768-4b3f-82bd-33290f0237fd",
   "metadata": {},
   "outputs": [],
   "source": [
    "import numpy as np"
   ]
  },
  {
   "cell_type": "code",
   "execution_count": 19,
   "id": "8f610535-7088-4881-8329-d5dbb43b91dc",
   "metadata": {},
   "outputs": [],
   "source": [
    "import matplotlib.pyplot as plt"
   ]
  },
  {
   "cell_type": "code",
   "execution_count": 20,
   "id": "dbdb141e-2d17-4b4e-a49d-5be904dda006",
   "metadata": {},
   "outputs": [],
   "source": [
    "import scipy.stats as stats"
   ]
  },
  {
   "cell_type": "code",
   "execution_count": 21,
   "id": "342e3b26-7268-4bdf-bfe4-0f537e67d8fe",
   "metadata": {},
   "outputs": [],
   "source": [
    "a = np.random.gumbel(12, 1.2, 100000)"
   ]
  },
  {
   "cell_type": "code",
   "execution_count": 22,
   "id": "6259e4ed-96c7-44f1-8ead-0f6678af029c",
   "metadata": {},
   "outputs": [
    {
     "data": {
      "text/plain": [
       "(array([2.000e+00, 6.000e+00, 1.100e+01, 5.400e+01, 1.180e+02, 2.610e+02,\n",
       "        5.050e+02, 8.500e+02, 1.326e+03, 1.928e+03, 2.458e+03, 3.189e+03,\n",
       "        3.905e+03, 4.308e+03, 4.837e+03, 5.298e+03, 5.347e+03, 5.346e+03,\n",
       "        5.393e+03, 5.226e+03, 5.079e+03, 4.597e+03, 4.418e+03, 4.060e+03,\n",
       "        3.688e+03, 3.356e+03, 2.962e+03, 2.657e+03, 2.395e+03, 2.020e+03,\n",
       "        1.774e+03, 1.649e+03, 1.346e+03, 1.211e+03, 1.100e+03, 9.690e+02,\n",
       "        8.730e+02, 7.470e+02, 6.570e+02, 5.590e+02, 4.680e+02, 4.270e+02,\n",
       "        3.300e+02, 3.090e+02, 2.630e+02, 2.360e+02, 1.760e+02, 2.010e+02,\n",
       "        1.410e+02, 1.430e+02, 1.090e+02, 1.130e+02, 7.800e+01, 6.700e+01,\n",
       "        6.600e+01, 4.900e+01, 5.500e+01, 3.200e+01, 3.200e+01, 2.500e+01,\n",
       "        3.100e+01, 1.800e+01, 2.300e+01, 1.300e+01, 1.600e+01, 1.300e+01,\n",
       "        8.000e+00, 8.000e+00, 1.200e+01, 7.000e+00, 5.000e+00, 7.000e+00,\n",
       "        4.000e+00, 8.000e+00, 1.000e+00, 1.000e+00, 2.000e+00, 2.000e+00,\n",
       "        4.000e+00, 2.000e+00, 0.000e+00, 1.000e+00, 1.000e+00, 3.000e+00,\n",
       "        0.000e+00, 0.000e+00, 0.000e+00, 0.000e+00, 0.000e+00, 2.000e+00,\n",
       "        1.000e+00, 0.000e+00, 0.000e+00, 0.000e+00, 0.000e+00, 1.000e+00,\n",
       "        0.000e+00, 0.000e+00, 0.000e+00, 1.000e+00]),\n",
       " array([ 8.90952491,  9.0865063 ,  9.26348769,  9.44046908,  9.61745047,\n",
       "         9.79443185,  9.97141324, 10.14839463, 10.32537602, 10.50235741,\n",
       "        10.6793388 , 10.85632019, 11.03330158, 11.21028297, 11.38726436,\n",
       "        11.56424575, 11.74122713, 11.91820852, 12.09518991, 12.2721713 ,\n",
       "        12.44915269, 12.62613408, 12.80311547, 12.98009686, 13.15707825,\n",
       "        13.33405964, 13.51104103, 13.68802242, 13.8650038 , 14.04198519,\n",
       "        14.21896658, 14.39594797, 14.57292936, 14.74991075, 14.92689214,\n",
       "        15.10387353, 15.28085492, 15.45783631, 15.6348177 , 15.81179908,\n",
       "        15.98878047, 16.16576186, 16.34274325, 16.51972464, 16.69670603,\n",
       "        16.87368742, 17.05066881, 17.2276502 , 17.40463159, 17.58161298,\n",
       "        17.75859436, 17.93557575, 18.11255714, 18.28953853, 18.46651992,\n",
       "        18.64350131, 18.8204827 , 18.99746409, 19.17444548, 19.35142687,\n",
       "        19.52840826, 19.70538965, 19.88237103, 20.05935242, 20.23633381,\n",
       "        20.4133152 , 20.59029659, 20.76727798, 20.94425937, 21.12124076,\n",
       "        21.29822215, 21.47520354, 21.65218493, 21.82916631, 22.0061477 ,\n",
       "        22.18312909, 22.36011048, 22.53709187, 22.71407326, 22.89105465,\n",
       "        23.06803604, 23.24501743, 23.42199882, 23.59898021, 23.77596159,\n",
       "        23.95294298, 24.12992437, 24.30690576, 24.48388715, 24.66086854,\n",
       "        24.83784993, 25.01483132, 25.19181271, 25.3687941 , 25.54577549,\n",
       "        25.72275688, 25.89973826, 26.07671965, 26.25370104, 26.43068243,\n",
       "        26.60766382]),\n",
       " <BarContainer object of 100 artists>)"
      ]
     },
     "execution_count": 22,
     "metadata": {},
     "output_type": "execute_result"
    },
    {
     "data": {
      "image/png": "[encoded data removed]",
      "text/plain": [
       "<Figure size 432x288 with 1 Axes>"
      ]
     },
     "metadata": {
      "needs_background": "light"
     },
     "output_type": "display_data"
    }
   ],
   "source": [
    "plt.hist(a, bins=100)"
   ]
  },
  {
   "cell_type": "code",
   "execution_count": null,
   "id": "5cc9d1e6-b2f4-4c56-90f3-1ffd05417864",
   "metadata": {},
   "outputs": [],
   "source": []
  }
 ],
 "metadata": {
  "kernelspec": {
   "display_name": "torch",
   "language": "python",
   "name": "torch-1.10.1"
  },
  "language_info": {
   "codemirror_mode": {
    "name": "ipython",
    "version": 3
   },
   "file_extension": ".py",
   "mimetype": "text/x-python",
   "name": "python",
   "nbconvert_exporter": "python",
   "pygments_lexer": "ipython3",
   "version": "3.9.12"
  }
 },
 "nbformat": 4,
 "nbformat_minor": 5
}
